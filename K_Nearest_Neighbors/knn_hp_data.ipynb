{
 "cells": [
  {
   "cell_type": "code",
   "execution_count": 1,
   "metadata": {},
   "outputs": [],
   "source": [
    "import numpy as np \n",
    "import pandas as pd \n",
    "import seaborn as sb \n",
    "\n",
    "from sklearn import preprocessing \n",
    "from sklearn.neighbors import KNeighborsClassifier \n",
    "\n",
    "from sklearn.metrics import accuracy_score, confusion_matrix  \n",
    "from sklearn.model_selection import train_test_split, GridSearchCV  \n",
    "from sklearn.preprocessing import StandardScaler \n",
    "\n",
    "# from sklearn.pipeline import Pipeline, make_pipeline \n",
    "# from sklearn.compose import ColumnTransformer \n",
    "\n",
    "import nbformat \n",
    "from IPython import get_ipython \n"
   ]
  },
  {
   "cell_type": "code",
   "execution_count": null,
   "metadata": {},
   "outputs": [],
   "source": [
    "# %run \"../Data_Preprocessing/data_preprocess.ipynb\" \n",
    "\n",
    "with open(\"../Data_Preprocessing/data_preprocess.ipynb\", \"r\", encoding=\"utf-8\") as f:\n",
    "    notebook1 = nbformat.read(f, as_version=4)\n",
    "\n",
    "ipython = get_ipython() \n",
    "\n",
    "for cell in notebook1.cells:\n",
    "    if cell.cell_type == \"code\":\n",
    "        print(cell.source) \n",
    "        if (\"hp_cleaned\" in cell.source or \"hp_d\" in cell.source):\n",
    "            ipython.run_cell(cell.source, silent=True) \n",
    "            # ipython.run_cell_async(cell.source, silent=True) \n",
    "\n",
    "try: \n",
    "    print(\"\\nHouse Price Cleaned Data : \")\n",
    "    print(hp_cleaned.head(), sep='\\n')     # type: ignore \n",
    "except NameError as e:\n",
    "    print(f\"Variable not found: {e}\")"
   ]
  },
  {
   "cell_type": "code",
   "execution_count": null,
   "metadata": {},
   "outputs": [],
   "source": [
    "hp_cleaned        # type: ignore "
   ]
  },
  {
   "cell_type": "code",
   "execution_count": null,
   "metadata": {},
   "outputs": [],
   "source": [
    "X_multi = hp_cleaned.loc[:, hp_cleaned.columns != 'Sold']      # type: ignore \n",
    "X_multi "
   ]
  },
  {
   "cell_type": "code",
   "execution_count": null,
   "metadata": {},
   "outputs": [],
   "source": [
    "y = hp_cleaned['Sold']        # type: ignore\n",
    "y "
   ]
  },
  {
   "cell_type": "markdown",
   "metadata": {},
   "source": [
    "Train - Test Split :  "
   ]
  },
  {
   "cell_type": "code",
   "execution_count": null,
   "metadata": {},
   "outputs": [],
   "source": [
    "X_train, X_test, y_train, y_test = train_test_split(X_multi, y, test_size = 0.2, random_state = 0)    \n",
    "# test_size = 0.2 ~ 20% of the dataset  \n",
    "# random_state : occurance of the sets \n",
    "print(f\" X_train size : {X_train.shape} \\n X_test size : {X_test.shape} \\n y_train size : {y_train.shape} \\n y_test size : {y_test.shape}\") "
   ]
  },
  {
   "cell_type": "markdown",
   "metadata": {},
   "source": [
    "Standard scalar creation - In standardization, we convert the avg. mean to zero and avg. standard deviation to one. "
   ]
  },
  {
   "cell_type": "code",
   "execution_count": 7,
   "metadata": {},
   "outputs": [],
   "source": [
    "scaler = preprocessing.StandardScaler().fit(X_train) \n",
    "X_train_s = scaler.transform(X_train) \n",
    "\n",
    "scaler = preprocessing.StandardScaler().fit(X_test) \n",
    "X_test_s = scaler.transform(X_test) "
   ]
  },
  {
   "cell_type": "code",
   "execution_count": null,
   "metadata": {},
   "outputs": [],
   "source": [
    "X_train_s "
   ]
  },
  {
   "cell_type": "code",
   "execution_count": null,
   "metadata": {},
   "outputs": [],
   "source": [
    "X_test_s "
   ]
  },
  {
   "cell_type": "markdown",
   "metadata": {},
   "source": [
    "KNN classifications "
   ]
  },
  {
   "cell_type": "code",
   "execution_count": null,
   "metadata": {},
   "outputs": [],
   "source": [
    "cls_knn_n1 = KNeighborsClassifier(n_neighbors = 1) \n",
    "cls_knn_n1.fit(X_train_s, y_train)  \n",
    "\n",
    "cls_knn_n3 = KNeighborsClassifier(n_neighbors = 3) \n",
    "cls_knn_n3.fit(X_train_s, y_train) \n",
    "\n",
    "knn1_y_test_prd = cls_knn_n1.predict(X_test_s) \n",
    "knn3_y_test_prd = cls_knn_n3.predict(X_test_s) \n",
    "\n",
    "print(\"For Neighbors_num = 1\") \n",
    "print(f\" KNN Accuracy score (Train) : {accuracy_score(y_train, cls_knn_n1.predict(X_train_s))} \") \n",
    "print(f\" KNN Accuracy score (Test) : {accuracy_score(y_test, knn1_y_test_prd)} \") \n",
    "\n",
    "print(\"For Neighbors_num = 3\") \n",
    "print(f\" KNN Accuracy score (Train) : {accuracy_score(y_train, cls_knn_n3.predict(X_train_s))} \") \n",
    "print(f\" KNN Accuracy score (Test) : {accuracy_score(y_test, knn3_y_test_prd)} \") "
   ]
  },
  {
   "cell_type": "code",
   "execution_count": null,
   "metadata": {},
   "outputs": [],
   "source": [
    "# Training set // K == 1 \n",
    "conf_mtx_n1 = confusion_matrix(y_train, cls_knn_n1.predict(X_train_s)) \n",
    "conf_mtx_n1 "
   ]
  },
  {
   "cell_type": "code",
   "execution_count": null,
   "metadata": {},
   "outputs": [],
   "source": [
    "# Training set // K == 3  \n",
    "conf_mtx_n1 = confusion_matrix(y_train, cls_knn_n3.predict(X_train_s)) \n",
    "conf_mtx_n1 "
   ]
  },
  {
   "cell_type": "code",
   "execution_count": null,
   "metadata": {},
   "outputs": [],
   "source": [
    "# Testing set // K == 1  \n",
    "conf_mtx_n1 = confusion_matrix(y_test, knn1_y_test_prd) \n",
    "conf_mtx_n1 "
   ]
  },
  {
   "cell_type": "code",
   "execution_count": null,
   "metadata": {},
   "outputs": [],
   "source": [
    "# Testing set // K == 3 \n",
    "conf_mtx_n1 = confusion_matrix(y_test, knn3_y_test_prd) \n",
    "conf_mtx_n1 "
   ]
  },
  {
   "cell_type": "code",
   "execution_count": null,
   "metadata": {},
   "outputs": [],
   "source": [
    "n = int(input(\"Enter a random K-value for grouping - \")) \n",
    "cls_knn_n = KNeighborsClassifier(n_neighbors = n)  \n",
    "cls_knn_n.fit(X_train_s, y_train) \n",
    "\n",
    "knn_y_test_prd = cls_knn_n.predict(X_test_s) \n",
    "\n",
    "print(f\"For Neighbors_num = {n}\")  \n",
    "print(f\" KNN Accuracy score (Train) : {accuracy_score(y_train, cls_knn_n.predict(X_train_s))} \") \n",
    "print(f\" KNN Accuracy score (Test) : {accuracy_score(y_test, knn_y_test_prd)} \") "
   ]
  },
  {
   "cell_type": "code",
   "execution_count": null,
   "metadata": {},
   "outputs": [],
   "source": [
    "# Training set \n",
    "conf_mtx_n = confusion_matrix(y_train, cls_knn_n.predict(X_train_s)) \n",
    "conf_mtx_n "
   ]
  },
  {
   "cell_type": "code",
   "execution_count": null,
   "metadata": {},
   "outputs": [],
   "source": [
    "# Testing set \n",
    "conf_mtx_n = confusion_matrix(y_test, cls_knn_n.predict(X_test_s)) \n",
    "conf_mtx_n "
   ]
  },
  {
   "cell_type": "markdown",
   "metadata": {},
   "source": [
    "----->>>>  || For multiple values of K, single KNN model operation - "
   ]
  },
  {
   "cell_type": "code",
   "execution_count": null,
   "metadata": {},
   "outputs": [],
   "source": [
    "params = {'n_neighbors': [i for i in range(1,15)]} \n",
    "params "
   ]
  },
  {
   "cell_type": "code",
   "execution_count": null,
   "metadata": {},
   "outputs": [],
   "source": [
    "grid_search_cv = GridSearchCV(KNeighborsClassifier(), params) \n",
    "grid_search_cv.fit(X_train_s, y_train) \n",
    "\n",
    "print(f\"Best parameter(s) for KNN : {grid_search_cv.best_params_}\") \n",
    "\n",
    "optimised_knn = grid_search_cv.best_estimator_ \n",
    "print(f\"Best model for the classification of attributes : {optimised_knn}\") "
   ]
  },
  {
   "cell_type": "code",
   "execution_count": null,
   "metadata": {},
   "outputs": [],
   "source": [
    "optm_y_test_prd = optimised_knn.predict(X_test_s) \n",
    "\n",
    "print(f\"OPtimised KNN accuracy score (Train) : {accuracy_score(y_train, optimised_knn.predict(X_train_s))}\") \n",
    "print(f\"OPtimised KNN accuracy score (Test) : {accuracy_score(y_test, optm_y_test_prd)}\")   "
   ]
  },
  {
   "cell_type": "code",
   "execution_count": null,
   "metadata": {},
   "outputs": [],
   "source": [
    "# Training set \n",
    "conf_mtx = confusion_matrix(y_train, optimised_knn.predict(X_train_s)) \n",
    "conf_mtx "
   ]
  },
  {
   "cell_type": "code",
   "execution_count": null,
   "metadata": {},
   "outputs": [],
   "source": [
    "# Testing set \n",
    "conf_mtx = confusion_matrix(y_test, optm_y_test_prd) \n",
    "conf_mtx "
   ]
  }
 ],
 "metadata": {
  "kernelspec": {
   "display_name": "virt_env",
   "language": "python",
   "name": "python3"
  },
  "language_info": {
   "codemirror_mode": {
    "name": "ipython",
    "version": 3
   },
   "file_extension": ".py",
   "mimetype": "text/x-python",
   "name": "python",
   "nbconvert_exporter": "python",
   "pygments_lexer": "ipython3",
   "version": "3.12.2"
  }
 },
 "nbformat": 4,
 "nbformat_minor": 2
}
