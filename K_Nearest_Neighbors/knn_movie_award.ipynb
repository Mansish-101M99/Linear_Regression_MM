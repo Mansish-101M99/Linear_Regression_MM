{
 "cells": [
  {
   "cell_type": "code",
   "execution_count": 10,
   "metadata": {},
   "outputs": [],
   "source": [
    "import numpy as np \n",
    "import pandas as pd \n",
    "import seaborn as sb \n",
    "\n",
    "from sklearn import preprocessing \n",
    "from sklearn.neighbors import KNeighborsClassifier \n",
    "\n",
    "from sklearn.metrics import accuracy_score, confusion_matrix  \n",
    "from sklearn.model_selection import train_test_split \n",
    "from sklearn.preprocessing import StandardScaler \n",
    "\n",
    "# from sklearn.pipeline import Pipeline, make_pipeline \n",
    "# from sklearn.compose import ColumnTransformer \n",
    "\n",
    "import nbformat \n",
    "from IPython import get_ipython \n"
   ]
  },
  {
   "cell_type": "code",
   "execution_count": null,
   "metadata": {},
   "outputs": [],
   "source": [
    "# %run \"../Data_Preprocessing/data_preprocess.ipynb\" \n",
    "\n",
    "with open(\"../Data_Preprocessing/data_preprocess.ipynb\", \"r\", encoding=\"utf-8\") as f:\n",
    "    notebook1 = nbformat.read(f, as_version=4)\n",
    "\n",
    "ipython = get_ipython() \n",
    "\n",
    "for cell in notebook1.cells:\n",
    "    if cell.cell_type == \"code\":\n",
    "        print(cell.source) \n",
    "        if (\"movies_data_cleaned\" in cell.source or \"movie_colen_data\" in cell.source):\n",
    "            ipython.run_cell(cell.source, silent=True) \n",
    "            # ipython.run_cell_async(cell.source, silent=True) \n",
    "\n",
    "try:\n",
    "    print(\"Movies Clean Data : \")\n",
    "    print(movies_data_cleaned.head(), sep='\\n')      # type: ignore \n",
    "\n",
    "except NameError as e:\n",
    "    print(f\"Variable not found: {e}\")"
   ]
  },
  {
   "cell_type": "code",
   "execution_count": null,
   "metadata": {},
   "outputs": [],
   "source": [
    "movies_data_cleaned      # type: ignore "
   ]
  },
  {
   "cell_type": "code",
   "execution_count": null,
   "metadata": {},
   "outputs": [],
   "source": [
    "X_multi = movies_data_cleaned.loc[:, movies_data_cleaned.columns != 'Start_Tech_Oscar']       # type: ignore \n",
    "X_multi  "
   ]
  },
  {
   "cell_type": "code",
   "execution_count": null,
   "metadata": {},
   "outputs": [],
   "source": [
    "y = movies_data_cleaned['Start_Tech_Oscar']      # type: ignore \n",
    "y "
   ]
  },
  {
   "cell_type": "markdown",
   "metadata": {},
   "source": [
    "Train - Test Split :  "
   ]
  },
  {
   "cell_type": "code",
   "execution_count": null,
   "metadata": {},
   "outputs": [],
   "source": [
    "X_train, X_test, y_train, y_test = train_test_split(X_multi, y, test_size = 0.2, random_state = 0)    \n",
    "# test_size = 0.2 ~ 20% of the dataset  \n",
    "# random_state : occurance of the sets \n",
    "print(f\" X_train size : {X_train.shape} \\n X_test size : {X_test.shape} \\n y_train size : {y_train.shape} \\n y_test size : {y_test.shape}\") "
   ]
  },
  {
   "cell_type": "markdown",
   "metadata": {},
   "source": [
    "Standard scalar creation - In standardization, we convert the avg. mean to zero and avg. standard deviation to one. "
   ]
  },
  {
   "cell_type": "code",
   "execution_count": 16,
   "metadata": {},
   "outputs": [],
   "source": [
    "scaler = preprocessing.StandardScaler().fit(X_train) \n",
    "X_train_s = scaler.transform(X_train) \n",
    "\n",
    "scaler = preprocessing.StandardScaler().fit(X_test) \n",
    "X_test_s = scaler.transform(X_test) "
   ]
  },
  {
   "cell_type": "code",
   "execution_count": null,
   "metadata": {},
   "outputs": [],
   "source": [
    "X_train_s "
   ]
  },
  {
   "cell_type": "code",
   "execution_count": null,
   "metadata": {},
   "outputs": [],
   "source": [
    "X_test_s "
   ]
  },
  {
   "cell_type": "markdown",
   "metadata": {},
   "source": [
    "KNN classifications "
   ]
  },
  {
   "cell_type": "code",
   "execution_count": null,
   "metadata": {},
   "outputs": [],
   "source": [
    "cls_knn_n1 = KNeighborsClassifier(n_neighbors = 1) \n",
    "cls_knn_n1.fit(X_train_s, y_train)  \n",
    "\n",
    "cls_knn_n3 = KNeighborsClassifier(n_neighbors = 3) \n",
    "cls_knn_n3.fit(X_train_s, y_train) \n",
    "\n",
    "print(\"For Neighbors_num = 1\") \n",
    "print(f\" KNN Accuracy score (Train) : {accuracy_score(y_train, cls_knn_n1.predict(X_train_s))} \") \n",
    "print(f\" KNN Accuracy score (Test) : {accuracy_score(y_test, cls_knn_n1.predict(X_test_s))} \") \n",
    "\n",
    "print(\"For Neighbors_num = 3\") \n",
    "print(f\" KNN Accuracy score (Train) : {accuracy_score(y_train, cls_knn_n3.predict(X_train_s))} \") \n",
    "print(f\" KNN Accuracy score (Test) : {accuracy_score(y_test, cls_knn_n3.predict(X_test_s))} \") "
   ]
  },
  {
   "cell_type": "code",
   "execution_count": null,
   "metadata": {},
   "outputs": [],
   "source": [
    "# Training set // K == 1 \n",
    "conf_mtx_n1 = confusion_matrix(y_train, cls_knn_n1.predict(X_train_s)) \n",
    "conf_mtx_n1 "
   ]
  },
  {
   "cell_type": "code",
   "execution_count": null,
   "metadata": {},
   "outputs": [],
   "source": [
    "# Training set // K == 3  \n",
    "conf_mtx_n1 = confusion_matrix(y_train, cls_knn_n3.predict(X_train_s)) \n",
    "conf_mtx_n1 "
   ]
  },
  {
   "cell_type": "code",
   "execution_count": null,
   "metadata": {},
   "outputs": [],
   "source": [
    "# Testing set // K == 1  \n",
    "conf_mtx_n1 = confusion_matrix(y_test, cls_knn_n1.predict(X_test_s)) \n",
    "conf_mtx_n1 "
   ]
  },
  {
   "cell_type": "code",
   "execution_count": null,
   "metadata": {},
   "outputs": [],
   "source": [
    "# Testing set // K == 3 \n",
    "conf_mtx_n1 = confusion_matrix(y_test, cls_knn_n3.predict(X_test_s)) \n",
    "conf_mtx_n1 "
   ]
  },
  {
   "cell_type": "code",
   "execution_count": null,
   "metadata": {},
   "outputs": [],
   "source": [
    "n = int(input(\"Enter a random K-value for grouping - \")) \n",
    "cls_knn_n = KNeighborsClassifier(n_neighbors = n)  \n",
    "cls_knn_n.fit(X_train_s, y_train) \n",
    "\n",
    "print(f\"For Neighbors_num = {n}\")  \n",
    "print(f\" KNN Accuracy score (Train) : {accuracy_score(y_train, cls_knn_n.predict(X_train_s))} \") \n",
    "print(f\" KNN Accuracy score (Test) : {accuracy_score(y_test, cls_knn_n.predict(X_test_s))} \") "
   ]
  },
  {
   "cell_type": "code",
   "execution_count": null,
   "metadata": {},
   "outputs": [],
   "source": [
    "# Training set \n",
    "conf_mtx_n = confusion_matrix(y_train, cls_knn_n.predict(X_train_s)) \n",
    "conf_mtx_n "
   ]
  },
  {
   "cell_type": "code",
   "execution_count": null,
   "metadata": {},
   "outputs": [],
   "source": [
    "# Testing set \n",
    "conf_mtx_n = confusion_matrix(y_test, cls_knn_n.predict(X_test_s)) \n",
    "conf_mtx_n "
   ]
  }
 ],
 "metadata": {
  "kernelspec": {
   "display_name": "virt_env",
   "language": "python",
   "name": "python3"
  },
  "language_info": {
   "codemirror_mode": {
    "name": "ipython",
    "version": 3
   },
   "file_extension": ".py",
   "mimetype": "text/x-python",
   "name": "python",
   "nbconvert_exporter": "python",
   "pygments_lexer": "ipython3",
   "version": "3.12.2"
  }
 },
 "nbformat": 4,
 "nbformat_minor": 2
}
