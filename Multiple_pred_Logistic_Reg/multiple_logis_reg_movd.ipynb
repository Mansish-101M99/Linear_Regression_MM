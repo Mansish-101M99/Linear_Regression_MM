{
 "cells": [
  {
   "cell_type": "code",
   "execution_count": 10,
   "metadata": {},
   "outputs": [],
   "source": [
    "import numpy as np  \n",
    "import pandas as pd \n",
    "import seaborn as sb \n",
    "\n",
    "import statsmodels.api as sm \n",
    "import statsmodels.discrete.discrete_model as smdm \n",
    "from sklearn.linear_model import LogisticRegression \n",
    "\n",
    "import nbformat \n",
    "from IPython import get_ipython \n"
   ]
  },
  {
   "cell_type": "code",
   "execution_count": null,
   "metadata": {},
   "outputs": [],
   "source": [
    "# %run \"../Data_Preprocessing/data_preprocess.ipynb\" \n",
    "\n",
    "with open(\"../Data_Preprocessing/data_preprocess.ipynb\", \"r\", encoding=\"utf-8\") as f:\n",
    "    notebook1 = nbformat.read(f, as_version=4)\n",
    "\n",
    "ipython = get_ipython() \n",
    "\n",
    "for cell in notebook1.cells:\n",
    "    if cell.cell_type == \"code\":\n",
    "        print(cell.source) \n",
    "        if (\"movies_data_cleaned\" in cell.source or \"movie_colen_data\" in cell.source):\n",
    "            ipython.run_cell(cell.source, silent=True) \n",
    "            # ipython.run_cell_async(cell.source, silent=True) \n",
    "\n",
    "try:\n",
    "    print(\"Movies Clean Data : \")\n",
    "    print(movies_data_cleaned.head())   # type: ignore \n",
    "\n",
    "except NameError as e:\n",
    "    print(f\"Variable not found: {e}\")"
   ]
  },
  {
   "cell_type": "code",
   "execution_count": null,
   "metadata": {},
   "outputs": [],
   "source": [
    "movies_data_cleaned   # type: ignore "
   ]
  },
  {
   "cell_type": "markdown",
   "metadata": {},
   "source": [
    "Logistic Regression with Multiple Predictors "
   ]
  },
  {
   "cell_type": "code",
   "execution_count": null,
   "metadata": {},
   "outputs": [],
   "source": [
    "X = movies_data_cleaned.loc[:, movies_data_cleaned.columns != 'Start_Tech_Oscar']        # type: ignore \n",
    "X \n",
    "# df.loc[:, <Allowed_or_not_column(s)>]   ----->>  [:] = all columns "
   ]
  },
  {
   "cell_type": "code",
   "execution_count": null,
   "metadata": {},
   "outputs": [],
   "source": [
    "y = movies_data_cleaned['Start_Tech_Oscar']      # type: ignore \n",
    "y "
   ]
  },
  {
   "cell_type": "code",
   "execution_count": null,
   "metadata": {},
   "outputs": [],
   "source": [
    "cls_logi_reg = LogisticRegression() \n",
    "cls_logi_reg.fit(X, y)         # X and y are independent variables \n",
    "\n",
    "logm_intercept = cls_logi_reg.intercept_     # beta_0 value \n",
    "logm_coeff = cls_logi_reg.coef_              # beta_n value \n",
    "print(\"Logarithmic classification model intercept = \", logm_intercept, \"\\nLogarithmic classification model coefficient = \", logm_coeff) \n",
    "\n",
    "# print(\"Logarithmic classification model intercept = \", logm_intercept, \"\\nLogarithmic classification model coefficient = \", logm_coeff[0]) "
   ]
  },
  {
   "cell_type": "markdown",
   "metadata": {},
   "source": [
    "Logistic Regression with statsmodels "
   ]
  },
  {
   "cell_type": "code",
   "execution_count": null,
   "metadata": {},
   "outputs": [],
   "source": [
    "X_cons = sm.add_constant(X)     # Here, Beta_0 == 0 \n",
    "X_cons  "
   ]
  },
  {
   "cell_type": "code",
   "execution_count": null,
   "metadata": {},
   "outputs": [],
   "source": [
    "# logit = smdm.Logit(y, X_cons).fit() \n",
    "logit = sm.Logit(y, X_cons).fit() \n",
    "logit.summary() "
   ]
  },
  {
   "cell_type": "code",
   "execution_count": null,
   "metadata": {},
   "outputs": [],
   "source": [
    "sb.jointplot(x=movies_data_cleaned['Budget'], y=movies_data_cleaned['Start_Tech_Oscar'], data=movies_data_cleaned, kind='kde')     # type: ignore "
   ]
  }
 ],
 "metadata": {
  "kernelspec": {
   "display_name": "virt_env",
   "language": "python",
   "name": "python3"
  },
  "language_info": {
   "codemirror_mode": {
    "name": "ipython",
    "version": 3
   },
   "file_extension": ".py",
   "mimetype": "text/x-python",
   "name": "python",
   "nbconvert_exporter": "python",
   "pygments_lexer": "ipython3",
   "version": "3.12.2"
  }
 },
 "nbformat": 4,
 "nbformat_minor": 2
}
