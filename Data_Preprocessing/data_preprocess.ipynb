{
 "cells": [
  {
   "cell_type": "markdown",
   "metadata": {
    "notebookRunGroups": {
     "groupValue": "1"
    }
   },
   "source": [
    "pip install numpy                                                                                                                               \n",
    "pip install pandas                                                                                                                              \n",
    "pip install matplotlib                                                                                                                          \n",
    "pip install seaborn "
   ]
  },
  {
   "cell_type": "code",
   "execution_count": 1,
   "metadata": {},
   "outputs": [],
   "source": [
    "import numpy as np \n",
    "import pandas as pd \n",
    "import seaborn as sb "
   ]
  },
  {
   "cell_type": "markdown",
   "metadata": {},
   "source": [
    "House price data "
   ]
  },
  {
   "cell_type": "code",
   "execution_count": null,
   "metadata": {},
   "outputs": [],
   "source": [
    "hp_d = pd.read_csv(\"../Datasets/House_Price.csv\", header=0) \n",
    "hp_d  "
   ]
  },
  {
   "cell_type": "code",
   "execution_count": null,
   "metadata": {},
   "outputs": [],
   "source": [
    "hp_d.shape "
   ]
  },
  {
   "cell_type": "code",
   "execution_count": null,
   "metadata": {},
   "outputs": [],
   "source": [
    "hp_d.info() "
   ]
  },
  {
   "cell_type": "code",
   "execution_count": null,
   "metadata": {},
   "outputs": [],
   "source": [
    "hp_d.describe()     # EDD process "
   ]
  },
  {
   "cell_type": "code",
   "execution_count": null,
   "metadata": {},
   "outputs": [],
   "source": [
    "# hotel_rooms to price jointplot\n",
    "\n",
    "sb.jointplot(x = \"n_hot_rooms\", y = \"price\", data = hp_d) "
   ]
  },
  {
   "cell_type": "code",
   "execution_count": null,
   "metadata": {},
   "outputs": [],
   "source": [
    "# rainfall to price \n",
    "\n",
    "sb.jointplot(x = \"rainfall\", y = \"price\", data=hp_d) "
   ]
  },
  {
   "cell_type": "code",
   "execution_count": null,
   "metadata": {},
   "outputs": [],
   "source": [
    "# Airport availability in each city (classification - yes/no) \n",
    "\n",
    "sb.countplot(x=\"airport\", data=hp_d)"
   ]
  },
  {
   "cell_type": "code",
   "execution_count": null,
   "metadata": {},
   "outputs": [],
   "source": [
    "# Water body type count in each city (classification) \n",
    "\n",
    "sb.countplot(x=\"waterbody\", data=hp_d) "
   ]
  },
  {
   "cell_type": "code",
   "execution_count": null,
   "metadata": {},
   "outputs": [],
   "source": [
    "# bus terminal count \n",
    "\n",
    "sb.countplot(x=\"bus_ter\", data=hp_d) "
   ]
  },
  {
   "cell_type": "markdown",
   "metadata": {},
   "source": [
    "Movies collection data "
   ]
  },
  {
   "cell_type": "code",
   "execution_count": null,
   "metadata": {},
   "outputs": [],
   "source": [
    "movie_colen_data = pd.read_csv(\"../Datasets/Movie_collection_train.csv\", header = 0) \n",
    "movie_colen_data "
   ]
  },
  {
   "cell_type": "code",
   "execution_count": null,
   "metadata": {},
   "outputs": [],
   "source": [
    "movie_colen_data.shape "
   ]
  },
  {
   "cell_type": "code",
   "execution_count": null,
   "metadata": {},
   "outputs": [],
   "source": [
    "movie_colen_data.info() "
   ]
  },
  {
   "cell_type": "code",
   "execution_count": null,
   "metadata": {},
   "outputs": [],
   "source": [
    "movie_colen_data.describe()         # EDD process "
   ]
  },
  {
   "cell_type": "code",
   "execution_count": 15,
   "metadata": {},
   "outputs": [],
   "source": [
    "# sb.relplot(data=movie_colen_data, y=\"Marketin_expense\", x=\"Collection\", hue=\"Movie_length\", row=\"Budget\", col=\"Movie_length\") \n",
    "\n",
    "# sb.relplot(data=movie_colen_data, y=\"Marketin_expense\", x=\"Collection\", hue=\"Movie_length\") \n",
    "\n",
    "# sb.relplot(data=movie_colen_data, y=\"Marketin_expense\", x=\"Collection\", row=\"Budget\") \n",
    "# sb.relplot(data=movie_colen_data, y=\"Marketin_expense\", x=\"Collection\", col=\"Production_expense\")  \n",
    "\n",
    "# sb.relplot(data=movie_colen_data, y=\"Marketin_expense\", x=\"Collection\", row=\"Budget\") \n",
    "# sb.relplot(data=movie_colen_data, y=\"Marketin_expense\", x=\"Collection\", hue=\"Movie_length\", col=\"Num_multiplex\") "
   ]
  }
 ],
 "metadata": {
  "kernelspec": {
   "display_name": "virt_env",
   "language": "python",
   "name": "python3"
  },
  "language_info": {
   "codemirror_mode": {
    "name": "ipython",
    "version": 3
   },
   "file_extension": ".py",
   "mimetype": "text/x-python",
   "name": "python",
   "nbconvert_exporter": "python",
   "pygments_lexer": "ipython3",
   "version": "3.12.2"
  }
 },
 "nbformat": 4,
 "nbformat_minor": 2
}
