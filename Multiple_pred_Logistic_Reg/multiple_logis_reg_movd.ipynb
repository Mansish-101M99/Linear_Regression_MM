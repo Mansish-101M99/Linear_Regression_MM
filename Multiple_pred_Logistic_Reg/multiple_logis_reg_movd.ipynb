{
 "cells": [
  {
   "cell_type": "code",
   "execution_count": 1,
   "metadata": {},
   "outputs": [],
   "source": [
    "import numpy as np  \n",
    "import pandas as pd \n",
    "import seaborn as sb \n",
    "import matplotlib.pyplot as plt \n",
    "\n",
    "import statsmodels.api as sm \n",
    "import statsmodels.discrete.discrete_model as smdm \n",
    "\n",
    "from sklearn.linear_model import LogisticRegression \n",
    "from sklearn.metrics import confusion_matrix, precision_score, recall_score, roc_auc_score, classification_report  \n",
    "from sklearn.discriminant_analysis import LinearDiscriminantAnalysis   \n",
    "\n",
    "import nbformat \n",
    "from IPython import get_ipython \n"
   ]
  },
  {
   "cell_type": "code",
   "execution_count": null,
   "metadata": {},
   "outputs": [],
   "source": [
    "# %run \"../Data_Preprocessing/data_preprocess.ipynb\" \n",
    "\n",
    "with open(\"../Data_Preprocessing/data_preprocess.ipynb\", \"r\", encoding=\"utf-8\") as f:\n",
    "    notebook1 = nbformat.read(f, as_version=4)\n",
    "\n",
    "ipython = get_ipython() \n",
    "\n",
    "for cell in notebook1.cells:\n",
    "    if cell.cell_type == \"code\":\n",
    "        print(cell.source) \n",
    "        if (\"movies_data_cleaned\" in cell.source or \"movie_colen_data\" in cell.source):\n",
    "            ipython.run_cell(cell.source, silent=True) \n",
    "            # ipython.run_cell_async(cell.source, silent=True) \n",
    "\n",
    "try:\n",
    "    print(\"Movies Clean Data : \")\n",
    "    print(movies_data_cleaned.head())   # type: ignore \n",
    "\n",
    "except NameError as e:\n",
    "    print(f\"Variable not found: {e}\")"
   ]
  },
  {
   "cell_type": "code",
   "execution_count": null,
   "metadata": {},
   "outputs": [],
   "source": [
    "movies_data_cleaned   # type: ignore "
   ]
  },
  {
   "cell_type": "markdown",
   "metadata": {},
   "source": [
    "Logistic Regression with Multiple Predictors "
   ]
  },
  {
   "cell_type": "code",
   "execution_count": null,
   "metadata": {},
   "outputs": [],
   "source": [
    "X = movies_data_cleaned.loc[:, movies_data_cleaned.columns != 'Start_Tech_Oscar']        # type: ignore \n",
    "X \n",
    "# df.loc[:, <Allowed_or_not_column(s)>]   ----->>  [:] = all columns "
   ]
  },
  {
   "cell_type": "code",
   "execution_count": null,
   "metadata": {},
   "outputs": [],
   "source": [
    "y = movies_data_cleaned['Start_Tech_Oscar']      # type: ignore \n",
    "y "
   ]
  },
  {
   "cell_type": "code",
   "execution_count": null,
   "metadata": {},
   "outputs": [],
   "source": [
    "cls_logi_reg = LogisticRegression() \n",
    "cls_logi_reg.fit(X, y)         # X and y are independent variables \n",
    "\n",
    "logm_intercept = cls_logi_reg.intercept_     # beta_0 value \n",
    "logm_coeff = cls_logi_reg.coef_              # beta_n value \n",
    "print(\"Logarithmic classification model intercept = \", logm_intercept, \"\\nLogarithmic classification model coefficient = \", logm_coeff) \n",
    "\n",
    "# print(\"Logarithmic classification model intercept = \", logm_intercept, \"\\nLogarithmic classification model coefficient = \", logm_coeff[0]) "
   ]
  },
  {
   "cell_type": "markdown",
   "metadata": {},
   "source": [
    "Logistic Regression with statsmodels "
   ]
  },
  {
   "cell_type": "code",
   "execution_count": null,
   "metadata": {},
   "outputs": [],
   "source": [
    "X_cons = sm.add_constant(X)     # Here, Beta_0 == 0 \n",
    "X_cons  "
   ]
  },
  {
   "cell_type": "code",
   "execution_count": null,
   "metadata": {},
   "outputs": [],
   "source": [
    "# logit = sm.Logit(y, X_cons).fit() \n",
    "logit = smdm.Logit(y, X_cons).fit() \n",
    "logit.summary() "
   ]
  },
  {
   "cell_type": "code",
   "execution_count": null,
   "metadata": {},
   "outputs": [],
   "source": [
    "sb.jointplot(x=movies_data_cleaned['Budget'], y=movies_data_cleaned['Start_Tech_Oscar'], data=movies_data_cleaned, kind='kde')     # type: ignore "
   ]
  },
  {
   "cell_type": "markdown",
   "metadata": {},
   "source": [
    "                        Confusion Matrix :- "
   ]
  },
  {
   "cell_type": "code",
   "execution_count": null,
   "metadata": {},
   "outputs": [],
   "source": [
    "y_pred = cls_logi_reg.predict(X)        # default boundary condition of predict() : pred_value >= 0.5 \n",
    "y_pred "
   ]
  },
  {
   "cell_type": "code",
   "execution_count": null,
   "metadata": {},
   "outputs": [],
   "source": [
    "conf_mtx = confusion_matrix(y, y_pred) \n",
    "conf_mtx "
   ]
  },
  {
   "cell_type": "code",
   "execution_count": null,
   "metadata": {},
   "outputs": [],
   "source": [
    "X_pred = cls_logi_reg.predict_proba(X)       # boundary condition : X_pred >= 0.5 \n",
    "X_pred "
   ]
  },
  {
   "cell_type": "code",
   "execution_count": null,
   "metadata": {},
   "outputs": [],
   "source": [
    "col_3 = int(input(\"Enter a random column from X predictor (0 or 1 only) : \")) \n",
    "\n",
    "y_pred_3 = X_pred[:, col_3] >= 0.3          # Here, boundary condition : pre_value >= 0.3 \n",
    "y_pred_3  "
   ]
  },
  {
   "cell_type": "code",
   "execution_count": null,
   "metadata": {},
   "outputs": [],
   "source": [
    "conf_mtx_3 = confusion_matrix(y, y_pred_3)  \n",
    "conf_mtx_3  "
   ]
  },
  {
   "cell_type": "code",
   "execution_count": null,
   "metadata": {},
   "outputs": [],
   "source": [
    "col_7 = int(input(\"Enter a random column from X predictor (0 or 1 only) : \")) \n",
    "\n",
    "y_pred_7 = X_pred[:, col_7] >= 0.7          # Here, boundary condition : pre_value >= 0.7 \n",
    "y_pred_7  "
   ]
  },
  {
   "cell_type": "code",
   "execution_count": null,
   "metadata": {},
   "outputs": [],
   "source": [
    "conf_mtx_7 = confusion_matrix(y, y_pred_7)  \n",
    "conf_mtx_7  "
   ]
  },
  {
   "cell_type": "markdown",
   "metadata": {},
   "source": [
    "                    Performance Metrics :- "
   ]
  },
  {
   "cell_type": "code",
   "execution_count": null,
   "metadata": {},
   "outputs": [],
   "source": [
    "prcn_sc = precision_score(y, y_pred)    \n",
    "prcn_sc \n",
    "\n",
    "# Precision score = [ true_positive / (true_positive + false_positive) ] "
   ]
  },
  {
   "cell_type": "code",
   "execution_count": null,
   "metadata": {},
   "outputs": [],
   "source": [
    "rcl_sc = recall_score(y, y_pred) \n",
    "rcl_sc \n",
    "\n",
    "# Recall score OR Sensitivity = [ true_positive / (true_positive + false_negative) ]"
   ]
  },
  {
   "cell_type": "code",
   "execution_count": null,
   "metadata": {},
   "outputs": [],
   "source": [
    "roc_sc = roc_auc_score(y, y_pred) \n",
    "roc_sc \n",
    "\n",
    "# Receiver Operating Characteristic curve : \n",
    "# X-axis = -ve predicted values      ,     Y-axis = +ve predicted values \n",
    "# It should be as far away from the diagonal line for better predicted values yield. "
   ]
  },
  {
   "cell_type": "markdown",
   "metadata": {},
   "source": [
    "                Linear Discriminant Analysis :- "
   ]
  },
  {
   "cell_type": "markdown",
   "metadata": {},
   "source": [
    "Linear Discriminant Analysis uses Bayes Theorem for multiple class or variable indicators. "
   ]
  },
  {
   "cell_type": "code",
   "execution_count": null,
   "metadata": {},
   "outputs": [],
   "source": [
    "cls_lda = LinearDiscriminantAnalysis() \n",
    "cls_lda.fit(X, y) \n",
    "\n",
    "intcp = cls_lda.intercept_ \n",
    "coef = cls_lda.coef_ \n",
    "\n",
    "print(f\" Linear Discriminant Analysis model intercept = {intcp} \\n Linear Discriminant Analysis model coefficient = {coef} \") "
   ]
  },
  {
   "cell_type": "code",
   "execution_count": null,
   "metadata": {},
   "outputs": [],
   "source": [
    "y_pred_lda = cls_lda.predict(X) \n",
    "y_pred_lda "
   ]
  },
  {
   "cell_type": "code",
   "execution_count": null,
   "metadata": {},
   "outputs": [],
   "source": [
    "conf_mtx_lda = confusion_matrix(y, y_pred_lda) \n",
    "conf_mtx_lda "
   ]
  },
  {
   "cell_type": "markdown",
   "metadata": {},
   "source": [
    "Logistic Regression model and LDA model confusion_matrix comparision : "
   ]
  },
  {
   "cell_type": "code",
   "execution_count": null,
   "metadata": {},
   "outputs": [],
   "source": [
    "print(f\"Logistic model report (Boundary condition >= 0.5) : \\n {classification_report(y, y_pred)} \\n\") \n",
    "print(f\"Logistic model report (Boundary condition >= 0.7) : \\n {classification_report(y, y_pred_7)} \\n\") \n",
    "print(f\"Logistic model report (Boundary condition >= 0.3) : \\n {classification_report(y, y_pred_3)} \\n\") \n",
    "print(f\"Linear Discriminant Analysis model report : \\n {classification_report(y, y_pred_lda)} \\n\")  "
   ]
  },
  {
   "cell_type": "code",
   "execution_count": null,
   "metadata": {},
   "outputs": [],
   "source": [
    "fig, axes = plt.subplots(2, 2, figsize = (12, 8)) \n",
    "\n",
    "sb.heatmap(conf_mtx, annot=True, fmt=\"d\", cmap=\"Blues\", ax=axes[0, 0]) \n",
    "axes[0, 0].set_title(\" Confusion Matrix (Boundary condition >= 0.5) \")  \n",
    "\n",
    "sb.heatmap(conf_mtx_3, annot=True, fmt=\"d\", cmap=\"Greens\", ax=axes[0, 1]) \n",
    "axes[0, 1].set_title(\" Confusion Matrix (Boundary condition >= 0.3) \")   \n",
    "\n",
    "sb.heatmap(conf_mtx_7, annot=True, fmt=\"d\", cmap=\"Greys\", ax=axes[1, 0]) \n",
    "axes[1, 0].set_title(\" Confusion Matrix (Boundary condition >= 0.7) \")  \n",
    "\n",
    "sb.heatmap(conf_mtx, annot=True, fmt=\"d\", cmap=\"Oranges\", ax=axes[1, 1]) \n",
    "axes[1, 1].set_title(\" Confusion Matrix (LDA) \")   \n",
    "\n",
    "plt.tight_layout() \n",
    "plt.show() "
   ]
  }
 ],
 "metadata": {
  "kernelspec": {
   "display_name": "virt_env",
   "language": "python",
   "name": "python3"
  },
  "language_info": {
   "codemirror_mode": {
    "name": "ipython",
    "version": 3
   },
   "file_extension": ".py",
   "mimetype": "text/x-python",
   "name": "python",
   "nbconvert_exporter": "python",
   "pygments_lexer": "ipython3",
   "version": "3.12.2"
  }
 },
 "nbformat": 4,
 "nbformat_minor": 2
}
