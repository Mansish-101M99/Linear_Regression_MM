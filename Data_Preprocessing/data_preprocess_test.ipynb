{
 "cells": [
  {
   "cell_type": "code",
   "execution_count": 177,
   "metadata": {},
   "outputs": [],
   "source": [
    "import numpy as np \n",
    "import pandas as pd \n",
    "import seaborn as sb "
   ]
  },
  {
   "cell_type": "code",
   "execution_count": null,
   "metadata": {},
   "outputs": [],
   "source": [
    "movie_colen_data = pd.read_csv(\"../Datasets/Movie_collection_test.csv\", header = 0) \n",
    "movie_colen_data "
   ]
  },
  {
   "cell_type": "code",
   "execution_count": null,
   "metadata": {},
   "outputs": [],
   "source": [
    "movie_colen_data.shape "
   ]
  },
  {
   "cell_type": "code",
   "execution_count": null,
   "metadata": {},
   "outputs": [],
   "source": [
    "movie_colen_data.info() "
   ]
  },
  {
   "cell_type": "code",
   "execution_count": null,
   "metadata": {},
   "outputs": [],
   "source": [
    "movie_colen_data.describe()         # EDD process "
   ]
  },
  {
   "cell_type": "code",
   "execution_count": null,
   "metadata": {},
   "outputs": [],
   "source": [
    "# Empty value handling with mean/median value filling \n",
    "\n",
    "# movie_colen_data.Time_taken = movie_colen_data.Time_taken.fillna(movie_colen_data.Time_taken.median())   \n",
    "movie_colen_data.Time_taken = movie_colen_data.Time_taken.fillna(movie_colen_data.Time_taken.mean()) \n",
    "\n",
    "movie_colen_data "
   ]
  },
  {
   "cell_type": "code",
   "execution_count": null,
   "metadata": {},
   "outputs": [],
   "source": [
    "movie_colen_data.info()     # Handled and update tables with null values "
   ]
  },
  {
   "cell_type": "code",
   "execution_count": null,
   "metadata": {},
   "outputs": [],
   "source": [
    "movie_colen_data.describe() "
   ]
  },
  {
   "cell_type": "code",
   "execution_count": null,
   "metadata": {},
   "outputs": [],
   "source": [
    "sb.jointplot(data=movie_colen_data, x=\"Budget\", y=\"Collection\") "
   ]
  },
  {
   "cell_type": "code",
   "execution_count": null,
   "metadata": {},
   "outputs": [],
   "source": [
    "sb.jointplot(data=movie_colen_data,x=\"Production_expense\", y=\"Collection\") "
   ]
  },
  {
   "cell_type": "code",
   "execution_count": null,
   "metadata": {},
   "outputs": [],
   "source": [
    "sb.jointplot(data=movie_colen_data, x=\"Budget\", y=\"Production_expense\") "
   ]
  },
  {
   "cell_type": "code",
   "execution_count": null,
   "metadata": {},
   "outputs": [],
   "source": [
    "# sb.relplot(data=movie_colen_data, x=\"Marketin_expense\", y=\"Collection\")  \n",
    "sb.jointplot(data=movie_colen_data, x=\"Marketin_expense\", y=\"Collection\")  "
   ]
  },
  {
   "cell_type": "code",
   "execution_count": null,
   "metadata": {},
   "outputs": [],
   "source": [
    "sb.jointplot(data=movie_colen_data, x=\"Budget\", y=\"Marketin_expense\") "
   ]
  },
  {
   "cell_type": "code",
   "execution_count": null,
   "metadata": {},
   "outputs": [],
   "source": [
    "sb.jointplot(y=\"Marketin_expense\", x=\"Production_expense\", data=movie_colen_data) "
   ]
  },
  {
   "cell_type": "code",
   "execution_count": 191,
   "metadata": {},
   "outputs": [],
   "source": [
    "# movie_colen_data.Marketin_expense = np.log(2.35 + movie_colen_data.Marketin_expense) \n",
    "# movie_colen_data.Marketin_expense = np.log(2.5 + movie_colen_data.Marketin_expense) \n",
    "# movie_colen_data.Marketin_expense = np.log(2.0 + movie_colen_data.Marketin_expense) \n",
    "# movie_colen_data.Marketin_expense = np.log(0.4 + movie_colen_data.Marketin_expense) \n",
    "\n",
    "# movie_colen_data.Production_expense = np.exp(1.6 + movie_colen_data.Production_expense) \n",
    "# movie_colen_data.Production_expense = np.log(2.6 + movie_colen_data.Production_expense) \n",
    "# movie_colen_data "
   ]
  },
  {
   "cell_type": "code",
   "execution_count": 192,
   "metadata": {},
   "outputs": [],
   "source": [
    "# movie_colen_data.describe()     # Updated marketing expense attribute "
   ]
  },
  {
   "cell_type": "code",
   "execution_count": 193,
   "metadata": {},
   "outputs": [],
   "source": [
    "# sb.jointplot(data=movie_colen_data, x=\"Marketin_expense\", y=\"Collection\")  \n",
    "# sb.jointplot(data=movie_colen_data, x=\"Production_expense\", y=\"Collection\")  "
   ]
  },
  {
   "cell_type": "code",
   "execution_count": 194,
   "metadata": {},
   "outputs": [],
   "source": [
    "# sb.jointplot(data=movie_colen_data, x=\"Budget\", y=\"Marketin_expense\") \n",
    "# sb.jointplot(data=movie_colen_data, x=\"Budget\", y=\"Production_expense\") "
   ]
  },
  {
   "cell_type": "code",
   "execution_count": 195,
   "metadata": {},
   "outputs": [],
   "source": [
    "# sb.jointplot(y=\"Marketin_expense\", x=\"Production_expense\", data=movie_colen_data) "
   ]
  },
  {
   "cell_type": "code",
   "execution_count": null,
   "metadata": {},
   "outputs": [],
   "source": [
    "# Dummy variable creation for categorical values to be in numerical form \n",
    "\n",
    "movie_colen_data = pd.get_dummies(movie_colen_data)\n",
    "movie_colen_data "
   ]
  },
  {
   "cell_type": "code",
   "execution_count": null,
   "metadata": {},
   "outputs": [],
   "source": [
    "movie_colen_data[[\"Genre_Action\", \"Genre_Comedy\", \"Genre_Drama\", \"Genre_Thriller\", \"3D_available_NO\", \"3D_available_YES\"]] = movie_colen_data[[\"Genre_Action\", \"Genre_Comedy\", \"Genre_Drama\", \"Genre_Thriller\", \"3D_available_NO\", \"3D_available_YES\"]].astype(int) \n",
    "movie_colen_data "
   ]
  },
  {
   "cell_type": "code",
   "execution_count": 198,
   "metadata": {},
   "outputs": [],
   "source": [
    "del movie_colen_data[\"3D_available_NO\"]    # Extra attribute "
   ]
  },
  {
   "cell_type": "code",
   "execution_count": null,
   "metadata": {},
   "outputs": [],
   "source": [
    "print(movie_colen_data.info())\n",
    "print(movie_colen_data.describe()) "
   ]
  },
  {
   "cell_type": "code",
   "execution_count": 200,
   "metadata": {},
   "outputs": [],
   "source": [
    "del movie_colen_data[\"MPAA_film_rating_PG\"]    # Since the whole colummn holds true "
   ]
  },
  {
   "cell_type": "code",
   "execution_count": 201,
   "metadata": {},
   "outputs": [],
   "source": [
    "movies_test_data_cleaned = movie_colen_data \n",
    "# movies_test_data_cleaned "
   ]
  },
  {
   "cell_type": "code",
   "execution_count": null,
   "metadata": {},
   "outputs": [],
   "source": [
    "movies_test_data_cleaned "
   ]
  },
  {
   "cell_type": "code",
   "execution_count": null,
   "metadata": {},
   "outputs": [],
   "source": [
    "print(movies_test_data_cleaned.info())\n",
    "print(movies_test_data_cleaned.describe()) "
   ]
  },
  {
   "cell_type": "code",
   "execution_count": null,
   "metadata": {},
   "outputs": [],
   "source": [
    "# movie_colen_data.corr()     # Correlatioin Matrix \n",
    "movies_test_data_cleaned.corr()     # Correlatioin Matrix "
   ]
  }
 ],
 "metadata": {
  "kernelspec": {
   "display_name": "virt_env",
   "language": "python",
   "name": "python3"
  },
  "language_info": {
   "codemirror_mode": {
    "name": "ipython",
    "version": 3
   },
   "file_extension": ".py",
   "mimetype": "text/x-python",
   "name": "python",
   "nbconvert_exporter": "python",
   "pygments_lexer": "ipython3",
   "version": "3.12.2"
  }
 },
 "nbformat": 4,
 "nbformat_minor": 2
}
