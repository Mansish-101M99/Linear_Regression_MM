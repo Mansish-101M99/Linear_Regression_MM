{
 "cells": [
  {
   "cell_type": "markdown",
   "metadata": {},
   "source": [
    "statsmodel for  classes and functions for the estimation of many different statistical models.                                                  \n",
    "pip install statsmodels                                                                                                                                  \n",
    "pip install import_ipynb    OR   pip install nbformat                                                                                             \n",
    "pip install scikit-learn\n",
    "\n"
   ]
  },
  {
   "cell_type": "code",
   "execution_count": 2,
   "metadata": {},
   "outputs": [],
   "source": [
    "# import numpy as np \n",
    "# import pandas as pd \n",
    "import seaborn as sb \n",
    "\n",
    "import statsmodels.api as sm \n",
    "from sklearn.linear_model import LinearRegression \n",
    "\n",
    "import nbformat \n",
    "from IPython import get_ipython \n"
   ]
  },
  {
   "cell_type": "code",
   "execution_count": null,
   "metadata": {},
   "outputs": [],
   "source": [
    "# %run \"../Data_Preprocessing/data_preprocess.ipynb\" \n",
    "\n",
    "with open(\"../Data_Preprocessing/data_preprocess.ipynb\", \"r\", encoding=\"utf-8\") as f:\n",
    "    notebook1 = nbformat.read(f, as_version=4)\n",
    "\n",
    "ipython = get_ipython() \n",
    "\n",
    "for cell in notebook1.cells:\n",
    "    if cell.cell_type == \"code\":\n",
    "        print(cell.source) \n",
    "        if (\"hp_cleaned\" in cell.source or \"movies_data_cleaned\" in cell.source or \"hp_d\" in cell.source or \"movie_colen_data\" in cell.source):\n",
    "            ipython.run_cell(cell.source, silent=True) \n",
    "            # ipython.run_cell_async(cell.source, silent=True) \n",
    "\n",
    "try:\n",
    "    print(\"Movies Clean Data:\")\n",
    "    print(movies_data_cleaned.head())   # type: ignore \n",
    "    print(\"\\nHouse Price Cleaned Data:\")\n",
    "    print(hp_cleaned.head())   # type: ignore \n",
    "except NameError as e:\n",
    "    print(f\"Variable not found: {e}\")"
   ]
  },
  {
   "cell_type": "markdown",
   "metadata": {},
   "source": [
    "House Price Dataset :: "
   ]
  },
  {
   "cell_type": "code",
   "execution_count": null,
   "metadata": {},
   "outputs": [],
   "source": [
    "hp_cleaned  # type: ignore "
   ]
  },
  {
   "cell_type": "code",
   "execution_count": null,
   "metadata": {},
   "outputs": [],
   "source": [
    "X = sm.add_constant(hp_cleaned['room_num'])     # type: ignore\n",
    "X "
   ]
  },
  {
   "cell_type": "code",
   "execution_count": null,
   "metadata": {},
   "outputs": [],
   "source": [
    "# OLS = Odrinary List Square \n",
    "\n",
    "linear_model = sm.OLS(hp_cleaned['price'], X).fit()     # type: ignore\n",
    "# linear_model    # --->> Object \n",
    "linear_model.summary() "
   ]
  },
  {
   "cell_type": "code",
   "execution_count": null,
   "metadata": {},
   "outputs": [],
   "source": [
    "y = hp_cleaned['price']     # type: ignore \n",
    "y "
   ]
  },
  {
   "cell_type": "code",
   "execution_count": null,
   "metadata": {},
   "outputs": [],
   "source": [
    "x = hp_cleaned[['room_num']]    # type: ignore \n",
    "x "
   ]
  },
  {
   "cell_type": "code",
   "execution_count": null,
   "metadata": {},
   "outputs": [],
   "source": [
    "linear_model2 = LinearRegression() \n",
    "linear_model2.fit(x, y)  \n",
    "\n",
    "lm2_intercept = linear_model2.intercept_ \n",
    "lm2_coeff = linear_model2.coef_  \n",
    "print(\"Linear model 2 intercept = \", lm2_intercept, \"\\nLinear model 2 coefficient = \", lm2_coeff[0])  \n",
    "\n",
    "# print(\"Linear model 2 intercept = \", lm2_intercept, \"\\nLinear model 2 coefficient = \", lm2_coeff)   "
   ]
  },
  {
   "cell_type": "code",
   "execution_count": null,
   "metadata": {},
   "outputs": [],
   "source": [
    "linear_model2.predict(x) "
   ]
  },
  {
   "cell_type": "code",
   "execution_count": null,
   "metadata": {},
   "outputs": [],
   "source": [
    "sb.jointplot(x=hp_cleaned['room_num'], y=hp_cleaned['price'], data=hp_cleaned, kind='reg')        # type: ignore "
   ]
  },
  {
   "cell_type": "code",
   "execution_count": null,
   "metadata": {},
   "outputs": [],
   "source": [
    "help(linear_model2)    # more info for the model usage "
   ]
  },
  {
   "cell_type": "code",
   "execution_count": null,
   "metadata": {},
   "outputs": [],
   "source": [
    "help(sb.jointplot()) "
   ]
  },
  {
   "cell_type": "markdown",
   "metadata": {},
   "source": [
    "Movies Collection Dataset ::"
   ]
  },
  {
   "cell_type": "code",
   "execution_count": null,
   "metadata": {},
   "outputs": [],
   "source": [
    "movies_data_cleaned   # type: ignore "
   ]
  },
  {
   "cell_type": "code",
   "execution_count": null,
   "metadata": {},
   "outputs": [],
   "source": [
    "x = sm.add_constant(movies_data_cleaned['Budget'])       # type: ignore \n",
    "x "
   ]
  },
  {
   "cell_type": "code",
   "execution_count": null,
   "metadata": {},
   "outputs": [],
   "source": [
    "# OLS summarization \n",
    "\n",
    "linear_model3 = sm.OLS(movies_data_cleaned['Collection'], x).fit()       # type: ignore \n",
    "# linear_model3       # --->> object \n",
    "linear_model3.summary() "
   ]
  },
  {
   "cell_type": "code",
   "execution_count": null,
   "metadata": {},
   "outputs": [],
   "source": [
    "y = movies_data_cleaned['Collection']      # type: ignore \n",
    "y "
   ]
  },
  {
   "cell_type": "code",
   "execution_count": null,
   "metadata": {},
   "outputs": [],
   "source": [
    "X = movies_data_cleaned[['Budget']]      # type: ignore \n",
    "X "
   ]
  },
  {
   "cell_type": "code",
   "execution_count": null,
   "metadata": {},
   "outputs": [],
   "source": [
    "linear_model4 = LinearRegression() \n",
    "linear_model4.fit(X, y) \n",
    "\n",
    "lm4_intercept = linear_model4.intercept_ \n",
    "lm4_coeff = linear_model4.coef_ \n",
    "print(\"Linear_model 4 Intercept = \", lm4_intercept, \"\\nLinear model 4 coefficient = \", lm4_coeff[0]) \n",
    "\n",
    "# print(\"Linear_model 4 Intercept = \", lm4_intercept, \"\\nLinear model 4 coefficient = \", lm4_coeff)  "
   ]
  },
  {
   "cell_type": "code",
   "execution_count": null,
   "metadata": {},
   "outputs": [],
   "source": [
    "linear_model4.predict(X) "
   ]
  },
  {
   "cell_type": "code",
   "execution_count": null,
   "metadata": {},
   "outputs": [],
   "source": [
    "sb.jointplot(x=movies_data_cleaned['Budget'], y=movies_data_cleaned['Collection'], data=movies_data_cleaned, kind='reg')     # type: ignore "
   ]
  },
  {
   "cell_type": "code",
   "execution_count": null,
   "metadata": {},
   "outputs": [],
   "source": [
    "help(linear_model4) "
   ]
  }
 ],
 "metadata": {
  "kernelspec": {
   "display_name": "virt_env",
   "language": "python",
   "name": "python3"
  },
  "language_info": {
   "codemirror_mode": {
    "name": "ipython",
    "version": 3
   },
   "file_extension": ".py",
   "mimetype": "text/x-python",
   "name": "python",
   "nbconvert_exporter": "python",
   "pygments_lexer": "ipython3",
   "version": "3.12.2"
  }
 },
 "nbformat": 4,
 "nbformat_minor": 2
}
