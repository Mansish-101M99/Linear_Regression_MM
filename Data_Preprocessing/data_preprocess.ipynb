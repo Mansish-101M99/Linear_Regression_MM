{
 "cells": [
  {
   "cell_type": "markdown",
   "metadata": {
    "notebookRunGroups": {
     "groupValue": "1"
    }
   },
   "source": [
    "pip install numpy                                                                                                                               \n",
    "pip install pandas                                                                                                                              \n",
    "pip install matplotlib                                                                                                                          \n",
    "pip install seaborn "
   ]
  },
  {
   "cell_type": "code",
   "execution_count": 1,
   "metadata": {},
   "outputs": [],
   "source": [
    "import numpy as np \n",
    "import pandas as pd \n",
    "import seaborn as sb "
   ]
  },
  {
   "cell_type": "markdown",
   "metadata": {},
   "source": [
    "House price data "
   ]
  },
  {
   "cell_type": "code",
   "execution_count": null,
   "metadata": {},
   "outputs": [],
   "source": [
    "hp_d = pd.read_csv(\"../Datasets/House_Price.csv\", header=0) \n",
    "hp_d  "
   ]
  },
  {
   "cell_type": "code",
   "execution_count": null,
   "metadata": {},
   "outputs": [],
   "source": [
    "shape_hp = hp_d.shape \n",
    "shape_hp  "
   ]
  },
  {
   "cell_type": "code",
   "execution_count": null,
   "metadata": {},
   "outputs": [],
   "source": [
    "hp_d.info() "
   ]
  },
  {
   "cell_type": "code",
   "execution_count": null,
   "metadata": {},
   "outputs": [],
   "source": [
    "hp_d.describe()     # EDD process "
   ]
  },
  {
   "cell_type": "code",
   "execution_count": null,
   "metadata": {},
   "outputs": [],
   "source": [
    "# hotel_rooms to price jointplot\n",
    "\n",
    "sb.jointplot(x = \"n_hot_rooms\", y = \"price\", data = hp_d) "
   ]
  },
  {
   "cell_type": "code",
   "execution_count": null,
   "metadata": {},
   "outputs": [],
   "source": [
    "# rainfall to price \n",
    "\n",
    "sb.jointplot(x = \"rainfall\", y = \"price\", data=hp_d) "
   ]
  },
  {
   "cell_type": "code",
   "execution_count": null,
   "metadata": {},
   "outputs": [],
   "source": [
    "# Airport availability in each city (classification - yes/no) \n",
    "\n",
    "sb.countplot(x=\"airport\", data=hp_d)"
   ]
  },
  {
   "cell_type": "code",
   "execution_count": null,
   "metadata": {},
   "outputs": [],
   "source": [
    "# Water body type count in each city (classification) \n",
    "\n",
    "sb.countplot(x=\"waterbody\", data=hp_d) "
   ]
  },
  {
   "cell_type": "code",
   "execution_count": null,
   "metadata": {},
   "outputs": [],
   "source": [
    "# bus terminal count \n",
    "\n",
    "sb.countplot(x=\"bus_ter\", data=hp_d) "
   ]
  },
  {
   "cell_type": "code",
   "execution_count": null,
   "metadata": {},
   "outputs": [],
   "source": [
    "np.percentile(hp_d.n_hot_rooms, [99])      # 99th percentile "
   ]
  },
  {
   "cell_type": "code",
   "execution_count": null,
   "metadata": {},
   "outputs": [],
   "source": [
    "up_pctl = np.percentile(hp_d.n_hot_rooms, [99])[0] \n",
    "up_pctl "
   ]
  },
  {
   "cell_type": "code",
   "execution_count": null,
   "metadata": {},
   "outputs": [],
   "source": [
    "hp_gt_pctl = hp_d[(hp_d.n_hot_rooms > up_pctl)] \n",
    "hp_gt_pctl "
   ]
  },
  {
   "cell_type": "code",
   "execution_count": null,
   "metadata": {},
   "outputs": [],
   "source": [
    "# n_hot_rooms have upper percentile value 15.39, and the outlier values to be seen here are at index 2 and 423. So we handle it with (* 3x). \n",
    "\n",
    "# hp_d.n_hot_rooms[(hp_d.n_hot_rooms > (3 * up_pctl))] = 3 * up_pctl \n",
    "\n",
    "hp_d.loc[(hp_d.n_hot_rooms > (3 * up_pctl)), 'n_hot_rooms'] = 3 * up_pctl \n",
    "hp_gt_pctl = hp_d[(hp_d.n_hot_rooms > up_pctl)] \n",
    "hp_gt_pctl "
   ]
  },
  {
   "cell_type": "code",
   "execution_count": null,
   "metadata": {},
   "outputs": [],
   "source": [
    "np.percentile(hp_d.rainfall, [1])       # 1st percentile of rainfall "
   ]
  },
  {
   "cell_type": "code",
   "execution_count": null,
   "metadata": {},
   "outputs": [],
   "source": [
    "lw_pctl = np.percentile(hp_d.rainfall, [1])[0] \n",
    "lw_pctl "
   ]
  },
  {
   "cell_type": "code",
   "execution_count": null,
   "metadata": {},
   "outputs": [],
   "source": [
    "hp_lw_pctl = hp_d[(hp_d.rainfall < lw_pctl)] \n",
    "hp_lw_pctl "
   ]
  },
  {
   "cell_type": "code",
   "execution_count": null,
   "metadata": {},
   "outputs": [],
   "source": [
    "# rainfall have lower percentile value 20 , and the outlier values to be seen here is at index 213. So we handle it with (* 0.3x). \n",
    "\n",
    "hp_d.loc[(hp_d.rainfall < (0.3 * lw_pctl)), 'rainfall'] = 0.3 * lw_pctl \n",
    "hp_lw_pctl = hp_d[(hp_d.rainfall < lw_pctl)] \n",
    "hp_lw_pctl "
   ]
  },
  {
   "cell_type": "code",
   "execution_count": null,
   "metadata": {},
   "outputs": [],
   "source": [
    "# sb.jointplot(x=\"resid_area\", y=\"crime_rate\", data=hp_d) \n",
    "sb.jointplot(y=\"price\", x=\"crime_rate\", data=hp_d) "
   ]
  },
  {
   "cell_type": "code",
   "execution_count": null,
   "metadata": {},
   "outputs": [],
   "source": [
    "# Updated EDD, newer min for rainfall and max for hotel_room  \n",
    "\n",
    "hp_d.describe() "
   ]
  },
  {
   "cell_type": "code",
   "execution_count": null,
   "metadata": {},
   "outputs": [],
   "source": [
    "# Missing values handling \n",
    "# hp_d = hp_d.fillna(hp_d.mean()) \n",
    "\n",
    "hp_d.n_hos_beds = hp_d.n_hos_beds.fillna(hp_d.n_hos_beds.mean()) \n",
    "hp_d \n",
    "\n",
    "# hp_mean_hosbed = hp_d \n",
    "# hp_mean_hosbed "
   ]
  },
  {
   "cell_type": "code",
   "execution_count": null,
   "metadata": {},
   "outputs": [],
   "source": [
    "hp_d.info()    # Updated table columns "
   ]
  },
  {
   "cell_type": "code",
   "execution_count": null,
   "metadata": {},
   "outputs": [],
   "source": [
    "sb.jointplot(x=\"crime_rate\", y=\"price\", data=hp_d) "
   ]
  },
  {
   "cell_type": "code",
   "execution_count": null,
   "metadata": {},
   "outputs": [],
   "source": [
    "# Since the crime rate is dense near the area of 0 to 1 for X-axis, wee have to add constant to the log function, for better view and calculation along with to get a linear relationship.  \n",
    "\n",
    "# hp_d.crime_rate = np.log(1 + hp_d.crime_rate) \n",
    "hp_d.crime_rate = np.log(3 + hp_d.crime_rate) \n",
    "hp_d "
   ]
  },
  {
   "cell_type": "code",
   "execution_count": null,
   "metadata": {},
   "outputs": [],
   "source": [
    "sb.jointplot(x=\"crime_rate\", y=\"price\", data=hp_d)     # Updated crime_rate to work with analysis "
   ]
  },
  {
   "cell_type": "code",
   "execution_count": null,
   "metadata": {},
   "outputs": [],
   "source": [
    "# Avg_dist is avg. dist for all given dists..\n",
    "\n",
    "hp_d[\"Avg_dist\"] = (hp_d.dist1 + hp_d.dist2 + hp_d.dist3 + hp_d.dist4) / 4 \n",
    "hp_d "
   ]
  },
  {
   "cell_type": "code",
   "execution_count": null,
   "metadata": {},
   "outputs": [],
   "source": [
    "print(hp_d.info()) \n",
    "print(hp_d.describe()) "
   ]
  },
  {
   "cell_type": "code",
   "execution_count": null,
   "metadata": {},
   "outputs": [],
   "source": [
    "try:\n",
    "    del hp_d[\"dist1\"] \n",
    "    print(\"Deleted dist1\")\n",
    "    del hp_d[\"dist2\"]\n",
    "    print(\"Deleted dist2\")\n",
    "    del hp_d[\"dist3\"]\n",
    "    print(\"Deleted dist3\")\n",
    "    del hp_d[\"dist4\"]\n",
    "    print(\"Deleted dist4\")\n",
    "except Exception:\n",
    "    print(\"Error\")\n"
   ]
  },
  {
   "cell_type": "code",
   "execution_count": null,
   "metadata": {},
   "outputs": [],
   "source": [
    "print(hp_d.info()) \n",
    "print(hp_d.describe()) "
   ]
  },
  {
   "cell_type": "code",
   "execution_count": null,
   "metadata": {},
   "outputs": [],
   "source": [
    "# Dummy variable/attribute creation for the attributes which hold categorical values and providing numerical attributes with 0 and 1.\n",
    "# Where 0 shows NIL for that categorical value and 1 holds true for it.  \n",
    "\n",
    "hp_d = pd.get_dummies(hp_d) \n",
    "hp_d \n",
    "\n",
    "# hp_dms = pd.get_dummies(hp_d) \n",
    "# hp_dms "
   ]
  },
  {
   "cell_type": "code",
   "execution_count": null,
   "metadata": {},
   "outputs": [],
   "source": [
    "hp_d[[\"airport_NO\", \"airport_YES\", \"waterbody_Lake\", \"waterbody_Lake and River\", \"waterbody_River\"]] =  hp_d[[\"airport_NO\", \"airport_YES\", \"waterbody_Lake\", \"waterbody_Lake and River\", \"waterbody_River\"]].astype(int)\n",
    "hp_d \n",
    "\n",
    "# Changing the type of dummy variables from bool to int type "
   ]
  },
  {
   "cell_type": "code",
   "execution_count": null,
   "metadata": {},
   "outputs": [],
   "source": [
    "print(hp_d.info()) \n",
    "print(hp_d.describe()) "
   ]
  },
  {
   "cell_type": "code",
   "execution_count": 33,
   "metadata": {},
   "outputs": [],
   "source": [
    "del hp_d[\"airport_NO\"]      # Removing extra quatifier whose meaning can be satisfies with the other airport_YES variable. "
   ]
  },
  {
   "cell_type": "code",
   "execution_count": null,
   "metadata": {},
   "outputs": [],
   "source": [
    "print(hp_d.info()) \n",
    "print(hp_d.describe()) "
   ]
  },
  {
   "cell_type": "code",
   "execution_count": 35,
   "metadata": {},
   "outputs": [],
   "source": [
    "del hp_d[\"bus_ter_YES\"]    # Since all the values hold true for the whole column "
   ]
  },
  {
   "cell_type": "code",
   "execution_count": 36,
   "metadata": {},
   "outputs": [],
   "source": [
    "hp_cleaned = hp_d \n",
    "# hp_cleaned "
   ]
  },
  {
   "cell_type": "code",
   "execution_count": null,
   "metadata": {},
   "outputs": [],
   "source": [
    "hp_cleaned "
   ]
  },
  {
   "cell_type": "code",
   "execution_count": null,
   "metadata": {},
   "outputs": [],
   "source": [
    "print(hp_cleaned.info()) \n",
    "print(hp_cleaned.describe()) "
   ]
  },
  {
   "cell_type": "code",
   "execution_count": null,
   "metadata": {},
   "outputs": [],
   "source": [
    "# Correlation matrix , to find the attributes with correlation value 0.8 <= (attribute) <= 1.0 and remove other close to zero \n",
    "hp_cleaned.corr() "
   ]
  },
  {
   "cell_type": "markdown",
   "metadata": {},
   "source": [
    "Movies collection data "
   ]
  },
  {
   "cell_type": "code",
   "execution_count": null,
   "metadata": {},
   "outputs": [],
   "source": [
    "movie_colen_data = pd.read_csv(\"../Datasets/Movie_collection_train.csv\", header = 0) \n",
    "movie_colen_data "
   ]
  },
  {
   "cell_type": "code",
   "execution_count": null,
   "metadata": {},
   "outputs": [],
   "source": [
    "movie_colen_data.shape "
   ]
  },
  {
   "cell_type": "code",
   "execution_count": null,
   "metadata": {},
   "outputs": [],
   "source": [
    "movie_colen_data.info() "
   ]
  },
  {
   "cell_type": "code",
   "execution_count": null,
   "metadata": {},
   "outputs": [],
   "source": [
    "movie_colen_data.describe()         # EDD process "
   ]
  },
  {
   "cell_type": "code",
   "execution_count": null,
   "metadata": {},
   "outputs": [],
   "source": [
    "# Empty value handling with mean/median value filling \n",
    "\n",
    "# movie_colen_data.Time_taken = movie_colen_data.Time_taken.fillna(movie_colen_data.Time_taken.median())   \n",
    "movie_colen_data.Time_taken = movie_colen_data.Time_taken.fillna(movie_colen_data.Time_taken.mean()) \n",
    "\n",
    "movie_colen_data "
   ]
  },
  {
   "cell_type": "code",
   "execution_count": null,
   "metadata": {},
   "outputs": [],
   "source": [
    "movie_colen_data.info()     # Handled and update tables with null values "
   ]
  },
  {
   "cell_type": "code",
   "execution_count": null,
   "metadata": {},
   "outputs": [],
   "source": [
    "sb.jointplot(x=\"Budget\", y=\"Production_expense\", data=movie_colen_data) "
   ]
  },
  {
   "cell_type": "code",
   "execution_count": null,
   "metadata": {},
   "outputs": [],
   "source": [
    "sb.jointplot(data=movie_colen_data, x=\"Budget\", y=\"Collection\") "
   ]
  },
  {
   "cell_type": "code",
   "execution_count": null,
   "metadata": {},
   "outputs": [],
   "source": [
    "sb.jointplot(data=movie_colen_data,x=\"Production_expense\", y=\"Collection\") "
   ]
  },
  {
   "cell_type": "code",
   "execution_count": null,
   "metadata": {},
   "outputs": [],
   "source": [
    "sb.jointplot(data=movie_colen_data, x=\"Budget\", y=\"Production_expense\") "
   ]
  },
  {
   "cell_type": "code",
   "execution_count": null,
   "metadata": {},
   "outputs": [],
   "source": [
    "# sb.relplot(data=movie_colen_data, y=\"Marketin_expense\", x=\"Collection\", hue=\"Movie_length\", row=\"Budget\", col=\"Movie_length\") \n",
    "\n",
    "# sb.relplot(data=movie_colen_data, x=\"Marketin_expense\", y=\"Collection\")  \n",
    "sb.jointplot(data=movie_colen_data, x=\"Marketin_expense\", y=\"Collection\")  \n"
   ]
  },
  {
   "cell_type": "code",
   "execution_count": null,
   "metadata": {},
   "outputs": [],
   "source": [
    "sb.jointplot(data=movie_colen_data, x=\"Budget\", y=\"Marketin_expense\") "
   ]
  },
  {
   "cell_type": "code",
   "execution_count": null,
   "metadata": {},
   "outputs": [],
   "source": [
    "sb.jointplot(y=\"Marketin_expense\", x=\"Production_expense\", data=movie_colen_data) "
   ]
  },
  {
   "cell_type": "code",
   "execution_count": null,
   "metadata": {},
   "outputs": [],
   "source": [
    "# movie_colen_data.Marketin_expense = np.log(2.5 + movie_colen_data.Marketin_expense) \n",
    "# movie_colen_data.Marketin_expense = np.log(3.0 + movie_colen_data.Marketin_expense) \n",
    "# movie_colen_data.Marketin_expense = np.log(1.5 + movie_colen_data.Marketin_expense) \n",
    "# movie_colen_data.Marketin_expense = np.log(2.0 + movie_colen_data.Marketin_expense) \n",
    "\n",
    "movie_colen_data.Marketin_expense = np.log(2.35 + movie_colen_data.Marketin_expense) \n",
    "movie_colen_data "
   ]
  },
  {
   "cell_type": "code",
   "execution_count": null,
   "metadata": {},
   "outputs": [],
   "source": [
    "movie_colen_data.describe()     # Updated marketing expense attribute "
   ]
  },
  {
   "cell_type": "code",
   "execution_count": null,
   "metadata": {},
   "outputs": [],
   "source": [
    "sb.jointplot(data=movie_colen_data, x=\"Marketin_expense\", y=\"Collection\")  "
   ]
  },
  {
   "cell_type": "code",
   "execution_count": null,
   "metadata": {},
   "outputs": [],
   "source": [
    "sb.jointplot(data=movie_colen_data, x=\"Budget\", y=\"Marketin_expense\") "
   ]
  },
  {
   "cell_type": "code",
   "execution_count": null,
   "metadata": {},
   "outputs": [],
   "source": [
    "sb.jointplot(y=\"Marketin_expense\", x=\"Production_expense\", data=movie_colen_data) "
   ]
  },
  {
   "cell_type": "code",
   "execution_count": null,
   "metadata": {},
   "outputs": [],
   "source": [
    "# Dummy variable creation for categorical values to be in numerical form \n",
    "\n",
    "movie_colen_data = pd.get_dummies(movie_colen_data)\n",
    "movie_colen_data "
   ]
  },
  {
   "cell_type": "code",
   "execution_count": null,
   "metadata": {},
   "outputs": [],
   "source": [
    "movie_colen_data[[\"Genre_Action\", \"Genre_Comedy\", \"Genre_Drama\", \"Genre_Thriller\", \"3D_available_NO\", \"3D_available_YES\"]] = movie_colen_data[[\"Genre_Action\", \"Genre_Comedy\", \"Genre_Drama\", \"Genre_Thriller\", \"3D_available_NO\", \"3D_available_YES\"]].astype(int) \n",
    "movie_colen_data "
   ]
  },
  {
   "cell_type": "code",
   "execution_count": null,
   "metadata": {},
   "outputs": [],
   "source": [
    "print(movie_colen_data.info())\n",
    "print(movie_colen_data.describe()) "
   ]
  },
  {
   "cell_type": "code",
   "execution_count": 61,
   "metadata": {},
   "outputs": [],
   "source": [
    "del movie_colen_data[\"3D_available_NO\"]    # Extra attribute "
   ]
  },
  {
   "cell_type": "code",
   "execution_count": null,
   "metadata": {},
   "outputs": [],
   "source": [
    "print(movie_colen_data.info())\n",
    "print(movie_colen_data.describe()) "
   ]
  },
  {
   "cell_type": "code",
   "execution_count": 63,
   "metadata": {},
   "outputs": [],
   "source": [
    "del movie_colen_data[\"MPAA_film_rating_PG\"]    # Since the whole colummn holds true "
   ]
  },
  {
   "cell_type": "code",
   "execution_count": 64,
   "metadata": {},
   "outputs": [],
   "source": [
    "movies_data_cleaned = movie_colen_data \n",
    "# movies_data_cleaned "
   ]
  },
  {
   "cell_type": "code",
   "execution_count": null,
   "metadata": {},
   "outputs": [],
   "source": [
    "movies_data_cleaned "
   ]
  },
  {
   "cell_type": "code",
   "execution_count": null,
   "metadata": {},
   "outputs": [],
   "source": [
    "print(movie_colen_data.info())\n",
    "print(movie_colen_data.describe()) "
   ]
  },
  {
   "cell_type": "code",
   "execution_count": null,
   "metadata": {},
   "outputs": [],
   "source": [
    "# movie_colen_data.corr()     # Correlatioin Matrix \n",
    "movies_data_cleaned.corr()     # Correlatioin Matrix "
   ]
  }
 ],
 "metadata": {
  "kernelspec": {
   "display_name": "virt_env",
   "language": "python",
   "name": "python3"
  },
  "language_info": {
   "codemirror_mode": {
    "name": "ipython",
    "version": 3
   },
   "file_extension": ".py",
   "mimetype": "text/x-python",
   "name": "python",
   "nbconvert_exporter": "python",
   "pygments_lexer": "ipython3",
   "version": "3.12.2"
  }
 },
 "nbformat": 4,
 "nbformat_minor": 2
}
